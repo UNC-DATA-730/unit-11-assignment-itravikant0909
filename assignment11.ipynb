{
 "cells": [
  {
   "cell_type": "markdown",
   "id": "df0d234f-1e1a-4495-8208-e177e7f527aa",
   "metadata": {},
   "source": [
    "Complete the exercises below For **Assignment #11**."
   ]
  },
  {
   "cell_type": "markdown",
   "id": "ac477582-ad99-429a-9649-262d62c35eb8",
   "metadata": {},
   "source": [
    "For this assignment we'll use the [California Housing Data](https://inria.github.io/scikit-learn-mooc/python_scripts/datasets_california_housing.html).\n",
    "\n",
    "This data is available in the [Scikit-Learn](https://scikit-learn.org/stable/index.html) Python module.\n",
    "\n",
    "To retrieve the data,\n",
    "1. open a new Python notebook with the `data730` kernel, and,\n",
    "2. run the following code.\n",
    "\n",
    "```python\n",
    "from sklearn.datasets import fetch_california_housing\n",
    "\n",
    "california_housing = fetch_california_housing(as_frame=True)\n",
    "\n",
    "(\n",
    "    california_housing.data\n",
    "    .assign(MedianHouseValue=california_housing.target)\n",
    "    .to_csv('california-housing.csv', index=False)\n",
    ")\n",
    "```\n",
    "\n",
    "This will produce a new file called `california-housing.csv` that we'll import in this notebook.\n",
    "\n",
    "Back in the Python notebook, you can use the following snippet to get a description of the dataset.\n",
    "\n",
    "```python\n",
    "print(california_housing.DESCR)\n",
    "```\n"
   ]
  },
  {
   "cell_type": "markdown",
   "id": "6c0e6b0b-9a15-4ce8-b8f3-d4e23e541d4d",
   "metadata": {},
   "source": [
    "Load the `tidymodels` package."
   ]
  },
  {
   "cell_type": "code",
   "execution_count": 6,
   "id": "4e33ab9e-c7e8-49e1-999d-0d02ca595b00",
   "metadata": {},
   "outputs": [
    {
     "name": "stdout",
     "output_type": "stream",
     "text": [
      ".. _california_housing_dataset:\n",
      "\n",
      "California Housing dataset\n",
      "--------------------------\n",
      "\n",
      "**Data Set Characteristics:**\n",
      "\n",
      ":Number of Instances: 20640\n",
      "\n",
      ":Number of Attributes: 8 numeric, predictive attributes and the target\n",
      "\n",
      ":Attribute Information:\n",
      "    - MedInc        median income in block group\n",
      "    - HouseAge      median house age in block group\n",
      "    - AveRooms      average number of rooms per household\n",
      "    - AveBedrms     average number of bedrooms per household\n",
      "    - Population    block group population\n",
      "    - AveOccup      average number of household members\n",
      "    - Latitude      block group latitude\n",
      "    - Longitude     block group longitude\n",
      "\n",
      ":Missing Attribute Values: None\n",
      "\n",
      "This dataset was obtained from the StatLib repository.\n",
      "https://www.dcc.fc.up.pt/~ltorgo/Regression/cal_housing.html\n",
      "\n",
      "The target variable is the median house value for California districts,\n",
      "expressed in hundreds of thousands of dollars ($100,000).\n",
      "\n",
      "This dataset was derived from the 1990 U.S. census, using one row per census\n",
      "block group. A block group is the smallest geographical unit for which the U.S.\n",
      "Census Bureau publishes sample data (a block group typically has a population\n",
      "of 600 to 3,000 people).\n",
      "\n",
      "A household is a group of people residing within a home. Since the average\n",
      "number of rooms and bedrooms in this dataset are provided per household, these\n",
      "columns may take surprisingly large values for block groups with few households\n",
      "and many empty houses, such as vacation resorts.\n",
      "\n",
      "It can be downloaded/loaded using the\n",
      ":func:`sklearn.datasets.fetch_california_housing` function.\n",
      "\n",
      ".. rubric:: References\n",
      "\n",
      "- Pace, R. Kelley and Ronald Barry, Sparse Spatial Autoregressions,\n",
      "  Statistics and Probability Letters, 33 (1997) 291-297\n",
      "\n"
     ]
    },
    {
     "data": {
      "text/html": [
       "<div>\n",
       "<style scoped>\n",
       "    .dataframe tbody tr th:only-of-type {\n",
       "        vertical-align: middle;\n",
       "    }\n",
       "\n",
       "    .dataframe tbody tr th {\n",
       "        vertical-align: top;\n",
       "    }\n",
       "\n",
       "    .dataframe thead th {\n",
       "        text-align: right;\n",
       "    }\n",
       "</style>\n",
       "<table border=\"1\" class=\"dataframe\">\n",
       "  <thead>\n",
       "    <tr style=\"text-align: right;\">\n",
       "      <th></th>\n",
       "      <th>MedInc</th>\n",
       "      <th>HouseAge</th>\n",
       "      <th>AveRooms</th>\n",
       "      <th>AveBedrms</th>\n",
       "      <th>Population</th>\n",
       "      <th>AveOccup</th>\n",
       "      <th>Latitude</th>\n",
       "      <th>Longitude</th>\n",
       "      <th>MedianHouseValue</th>\n",
       "    </tr>\n",
       "  </thead>\n",
       "  <tbody>\n",
       "    <tr>\n",
       "      <th>0</th>\n",
       "      <td>8.3252</td>\n",
       "      <td>41.0</td>\n",
       "      <td>6.984127</td>\n",
       "      <td>1.023810</td>\n",
       "      <td>322.0</td>\n",
       "      <td>2.555556</td>\n",
       "      <td>37.88</td>\n",
       "      <td>-122.23</td>\n",
       "      <td>4.526</td>\n",
       "    </tr>\n",
       "    <tr>\n",
       "      <th>1</th>\n",
       "      <td>8.3014</td>\n",
       "      <td>21.0</td>\n",
       "      <td>6.238137</td>\n",
       "      <td>0.971880</td>\n",
       "      <td>2401.0</td>\n",
       "      <td>2.109842</td>\n",
       "      <td>37.86</td>\n",
       "      <td>-122.22</td>\n",
       "      <td>3.585</td>\n",
       "    </tr>\n",
       "    <tr>\n",
       "      <th>2</th>\n",
       "      <td>7.2574</td>\n",
       "      <td>52.0</td>\n",
       "      <td>8.288136</td>\n",
       "      <td>1.073446</td>\n",
       "      <td>496.0</td>\n",
       "      <td>2.802260</td>\n",
       "      <td>37.85</td>\n",
       "      <td>-122.24</td>\n",
       "      <td>3.521</td>\n",
       "    </tr>\n",
       "    <tr>\n",
       "      <th>3</th>\n",
       "      <td>5.6431</td>\n",
       "      <td>52.0</td>\n",
       "      <td>5.817352</td>\n",
       "      <td>1.073059</td>\n",
       "      <td>558.0</td>\n",
       "      <td>2.547945</td>\n",
       "      <td>37.85</td>\n",
       "      <td>-122.25</td>\n",
       "      <td>3.413</td>\n",
       "    </tr>\n",
       "    <tr>\n",
       "      <th>4</th>\n",
       "      <td>3.8462</td>\n",
       "      <td>52.0</td>\n",
       "      <td>6.281853</td>\n",
       "      <td>1.081081</td>\n",
       "      <td>565.0</td>\n",
       "      <td>2.181467</td>\n",
       "      <td>37.85</td>\n",
       "      <td>-122.25</td>\n",
       "      <td>3.422</td>\n",
       "    </tr>\n",
       "  </tbody>\n",
       "</table>\n",
       "</div>"
      ],
      "text/plain": [
       "   MedInc  HouseAge  AveRooms  AveBedrms  Population  AveOccup  Latitude  \\\n",
       "0  8.3252      41.0  6.984127   1.023810       322.0  2.555556     37.88   \n",
       "1  8.3014      21.0  6.238137   0.971880      2401.0  2.109842     37.86   \n",
       "2  7.2574      52.0  8.288136   1.073446       496.0  2.802260     37.85   \n",
       "3  5.6431      52.0  5.817352   1.073059       558.0  2.547945     37.85   \n",
       "4  3.8462      52.0  6.281853   1.081081       565.0  2.181467     37.85   \n",
       "\n",
       "   Longitude  MedianHouseValue  \n",
       "0    -122.23             4.526  \n",
       "1    -122.22             3.585  \n",
       "2    -122.24             3.521  \n",
       "3    -122.25             3.413  \n",
       "4    -122.25             3.422  "
      ]
     },
     "execution_count": 6,
     "metadata": {},
     "output_type": "execute_result"
    }
   ],
   "source": [
    "from sklearn.datasets import fetch_california_housing\n",
    "\n",
    "# Load the California Housing dataset and save it as a CSV file\n",
    "california_housing = fetch_california_housing(as_frame=True)\n",
    "california_housing.data.assign(MedianHouseValue=california_housing.target).to_csv('california-housing.csv', index=False)\n",
    "\n",
    "\n",
    "print(california_housing.DESCR)\n",
    "\n",
    "import pandas as pd\n",
    "\n",
    "# Load the California Housing CSV file\n",
    "housing = pd.read_csv('california-housing.csv')\n",
    "\n",
    "# Display the first few rows of the dataframe\n",
    "housing.head()\n",
    "\n",
    "\n"
   ]
  },
  {
   "cell_type": "markdown",
   "id": "7cfc3389-32a4-4c59-862d-462204400235",
   "metadata": {},
   "source": [
    "Run the following cell to read in our data."
   ]
  },
  {
   "cell_type": "code",
   "execution_count": 5,
   "id": "aad1c14f-9108-4e9d-ac5f-119992990911",
   "metadata": {},
   "outputs": [
    {
     "ename": "SyntaxError",
     "evalue": "invalid syntax (1176014728.py, line 1)",
     "output_type": "error",
     "traceback": [
      "\u001b[0;36m  Cell \u001b[0;32mIn[5], line 1\u001b[0;36m\u001b[0m\n\u001b[0;31m    housing = readr::read_csv('california-housing.csv', col_types = readr::cols())\u001b[0m\n\u001b[0m                   ^\u001b[0m\n\u001b[0;31mSyntaxError\u001b[0m\u001b[0;31m:\u001b[0m invalid syntax\n"
     ]
    }
   ],
   "source": [
    "housing = readr::read_csv('california-housing.csv', col_types = readr::cols())\n",
    "\n",
    "housing |> head()"
   ]
  },
  {
   "cell_type": "markdown",
   "id": "e4963a96-8528-4eb0-8512-d0f792999de0",
   "metadata": {},
   "source": [
    "Let's build a random forest model to predict `MedianHouseValue`.\n",
    "\n",
    "1. Create your model, set the engine to `ranger` with `importance = 'impurity'` and the mode as `regression`.\n",
    "2. Fit the model using `MedianHouseValue` as the response variable and all other columns as predictors."
   ]
  },
  {
   "cell_type": "code",
   "execution_count": 9,
   "id": "5db51c38-89cf-4c98-b08a-ad32ae31c701",
   "metadata": {},
   "outputs": [
    {
     "name": "stdout",
     "output_type": "stream",
     "text": [
      "Mean Squared Error: 0.2553684927247781\n",
      "R^2 Score: 0.8051230593157366\n",
      "Feature importances based on impurity:\n",
      "MedInc        0.524871\n",
      "AveOccup      0.138443\n",
      "Latitude      0.088936\n",
      "Longitude     0.088629\n",
      "HouseAge      0.054593\n",
      "AveRooms      0.044272\n",
      "Population    0.030650\n",
      "AveBedrms     0.029606\n",
      "dtype: float64\n"
     ]
    }
   ],
   "source": [
    "import pandas as pd\n",
    "from sklearn.model_selection import train_test_split\n",
    "from sklearn.ensemble import RandomForestRegressor\n",
    "from sklearn.metrics import mean_squared_error, r2_score\n",
    "\n",
    "# Load the dataset\n",
    "df = pd.read_csv('california-housing.csv')\n",
    "\n",
    "# Define the predictors (all columns except 'MedianHouseValue') and response variable\n",
    "X = df.drop(columns='MedianHouseValue')\n",
    "y = df['MedianHouseValue']\n",
    "\n",
    "# Split the data into training and testing sets\n",
    "X_train, X_test, y_train, y_test = train_test_split(X, y, test_size=0.2, random_state=42)\n",
    "\n",
    "# Initialize the RandomForestRegressor with impurity-based feature importance\n",
    "model = RandomForestRegressor(random_state=42)\n",
    "\n",
    "# Fit the model\n",
    "model.fit(X_train, y_train)\n",
    "\n",
    "# Predict and evaluate\n",
    "y_pred = model.predict(X_test)\n",
    "mse = mean_squared_error(y_test, y_pred)\n",
    "r2 = r2_score(y_test, y_pred)\n",
    "\n",
    "# Display results\n",
    "print(f\"Mean Squared Error: {mse}\")\n",
    "print(f\"R^2 Score: {r2}\")\n",
    "\n",
    "# Display feature importances\n",
    "feature_importances = pd.Series(model.feature_importances_, index=X.columns)\n",
    "print(\"Feature importances based on impurity:\")\n",
    "print(feature_importances.sort_values(ascending=False))\n"
   ]
  },
  {
   "cell_type": "markdown",
   "id": "7b7bbc21-d544-4fb9-851a-f66bae8058c9",
   "metadata": {},
   "source": [
    "❓ What is the OOB error for this model?\n",
    "\n",
    "**Answer:**"
   ]
  },
  {
   "cell_type": "code",
   "execution_count": null,
   "id": "c3eb7159-539f-491d-82e1-b74802b514cb",
   "metadata": {},
   "outputs": [],
   "source": [
    "\n",
    "\n"
   ]
  },
  {
   "cell_type": "markdown",
   "id": "a142043a-4973-4948-8922-4d91915b00cd",
   "metadata": {},
   "source": [
    "Plot the feature importances using the `vip` package. Remember that you can use the `extract_fit_engine` function to get the `ranger` model object to send to the `vip` function."
   ]
  },
  {
   "cell_type": "code",
   "execution_count": 14,
   "id": "2f1d48f4-b869-4e47-bdc0-2df4b0d65bf0",
   "metadata": {},
   "outputs": [
    {
     "ename": "ModuleNotFoundError",
     "evalue": "No module named 'seaborn'",
     "output_type": "error",
     "traceback": [
      "\u001b[0;31m---------------------------------------------------------------------------\u001b[0m",
      "\u001b[0;31mModuleNotFoundError\u001b[0m                       Traceback (most recent call last)",
      "Cell \u001b[0;32mIn[14], line 2\u001b[0m\n\u001b[1;32m      1\u001b[0m \u001b[38;5;28;01mimport\u001b[39;00m \u001b[38;5;21;01mpandas\u001b[39;00m \u001b[38;5;28;01mas\u001b[39;00m \u001b[38;5;21;01mpd\u001b[39;00m\n\u001b[0;32m----> 2\u001b[0m \u001b[38;5;28;01mimport\u001b[39;00m \u001b[38;5;21;01mseaborn\u001b[39;00m \u001b[38;5;28;01mas\u001b[39;00m \u001b[38;5;21;01msns\u001b[39;00m\n\u001b[1;32m      3\u001b[0m \u001b[38;5;28;01mimport\u001b[39;00m \u001b[38;5;21;01mmatplotlib\u001b[39;00m\u001b[38;5;21;01m.\u001b[39;00m\u001b[38;5;21;01mpyplot\u001b[39;00m \u001b[38;5;28;01mas\u001b[39;00m \u001b[38;5;21;01mplt\u001b[39;00m\n\u001b[1;32m      4\u001b[0m \u001b[38;5;28;01mfrom\u001b[39;00m \u001b[38;5;21;01msklearn\u001b[39;00m\u001b[38;5;21;01m.\u001b[39;00m\u001b[38;5;21;01mmodel_selection\u001b[39;00m \u001b[38;5;28;01mimport\u001b[39;00m train_test_split\n",
      "\u001b[0;31mModuleNotFoundError\u001b[0m: No module named 'seaborn'"
     ]
    }
   ],
   "source": [
    "import pandas as pd\n",
    "import seaborn as sns\n",
    "import matplotlib.pyplot as plt\n",
    "from sklearn.model_selection import train_test_split\n",
    "from sklearn.ensemble import RandomForestRegressor\n",
    "\n",
    "# Extract feature importances\n",
    "feature_importances = pd.Series(model.feature_importances_, index=X.columns)\n",
    "\n",
    "# Plot feature importances\n",
    "plt.figure(figsize=(10, 6))\n",
    "sns.barplot(x=feature_importances.values, y=feature_importances.index, palette=\"viridis\")\n",
    "plt.title(\"Feature Importances Based on Impurity\")\n",
    "plt.xlabel(\"Importance\")\n",
    "plt.ylabel(\"Feature\")\n",
    "plt.show()\n",
    "\n"
   ]
  },
  {
   "cell_type": "markdown",
   "id": "2d25e5c7-b347-487a-bcd0-1f919daeda39",
   "metadata": {},
   "source": [
    "It looks like `Latitude` and `Longitude` are important for predicting home value. Let's explore those variables.\n",
    "\n",
    "Install the `mapdata` package into your `data730` environment.\n",
    "\n",
    "1. Open a Terminal, and,\n",
    "2. Run the following command:\n",
    "\n",
    "```bash\n",
    "conda install -c conda-forge -n data730 r-mapdata\n",
    "```"
   ]
  },
  {
   "cell_type": "markdown",
   "id": "77831dfa-6c6e-4d21-a724-531d10353375",
   "metadata": {},
   "source": [
    "Load the `mapdata` package."
   ]
  },
  {
   "cell_type": "code",
   "execution_count": 15,
   "id": "bca2b508-bc25-484a-913b-40823fddd526",
   "metadata": {},
   "outputs": [
    {
     "ename": "ModuleNotFoundError",
     "evalue": "No module named 'geopandas'",
     "output_type": "error",
     "traceback": [
      "\u001b[0;31m---------------------------------------------------------------------------\u001b[0m",
      "\u001b[0;31mModuleNotFoundError\u001b[0m                       Traceback (most recent call last)",
      "Cell \u001b[0;32mIn[15], line 2\u001b[0m\n\u001b[1;32m      1\u001b[0m \u001b[38;5;28;01mimport\u001b[39;00m \u001b[38;5;21;01mpandas\u001b[39;00m \u001b[38;5;28;01mas\u001b[39;00m \u001b[38;5;21;01mpd\u001b[39;00m\n\u001b[0;32m----> 2\u001b[0m \u001b[38;5;28;01mimport\u001b[39;00m \u001b[38;5;21;01mgeopandas\u001b[39;00m \u001b[38;5;28;01mas\u001b[39;00m \u001b[38;5;21;01mgpd\u001b[39;00m\n\u001b[1;32m      3\u001b[0m \u001b[38;5;28;01mimport\u001b[39;00m \u001b[38;5;21;01mmatplotlib\u001b[39;00m\u001b[38;5;21;01m.\u001b[39;00m\u001b[38;5;21;01mpyplot\u001b[39;00m \u001b[38;5;28;01mas\u001b[39;00m \u001b[38;5;21;01mplt\u001b[39;00m\n\u001b[1;32m      4\u001b[0m \u001b[38;5;28;01mimport\u001b[39;00m \u001b[38;5;21;01mcontextily\u001b[39;00m \u001b[38;5;28;01mas\u001b[39;00m \u001b[38;5;21;01mctx\u001b[39;00m\n",
      "\u001b[0;31mModuleNotFoundError\u001b[0m: No module named 'geopandas'"
     ]
    }
   ],
   "source": [
    "import pandas as pd\n",
    "import geopandas as gpd\n",
    "import matplotlib.pyplot as plt\n",
    "import contextily as ctx\n",
    "\n",
    "# Load the dataset\n",
    "df = pd.read_csv('california-housing.csv')\n",
    "\n",
    "# Convert DataFrame to a GeoDataFrame, setting geometry from Longitude and Latitude\n",
    "gdf = gpd.GeoDataFrame(\n",
    "    df, \n",
    "    geometry=gpd.points_from_xy(df.Longitude, df.Latitude),\n",
    "    crs=\"EPSG:4326\"  # Set coordinate reference system (WGS84)\n",
    ")\n",
    "\n",
    "# Reproject to Web Mercator (required for contextily basemaps)\n",
    "gdf = gdf.to_crs(epsg=3857)\n",
    "\n",
    "# Plot California Housing Data on a Basemap\n",
    "fig, ax = plt.subplots(figsize=(10, 10))\n",
    "gdf.plot(\n",
    "    ax=ax, \n",
    "    column='MedianHouseValue', \n",
    "    cmap='viridis', \n",
    "    markersize=1, \n",
    "    legend=True,\n",
    "    legend_kwds={'label': \"Median House Value\", 'orientation': \"horizontal\"}\n",
    ")\n",
    "\n",
    "# Add basemap for better context\n",
    "ctx.add_basemap(ax, source=ctx.providers.Stamen.TonerLite)\n",
    "\n",
    "# Customize plot appearance\n",
    "ax.set_title(\"California Housing Prices by Latitude and Longitude\")\n",
    "ax.set_xlabel(\"Longitude\")\n",
    "ax.set_ylabel(\"Latitude\")\n",
    "plt.show()\n",
    "\n",
    "\n"
   ]
  },
  {
   "cell_type": "markdown",
   "id": "f754f76b-9e28-4916-a793-1cbf5f1d256d",
   "metadata": {},
   "source": [
    "The following code will generate a map of California. Adapt this code to plot `Latitude` and `Longitude` from the `housing` dataset, color points by the `MedianHouseValue`. [Here is an example for reference](https://raw.githubusercontent.com/UNC-DATA-730/a10/main/example.png).\n",
    "\n",
    "\n",
    "```r\n",
    "california = map_data(\"state\") |> filter(region == 'california')\n",
    "\n",
    "ggplot(data = california) + \n",
    "    geom_polygon(aes(x = long, y = lat), fill = \"grey90\", color = \"grey40\") +\n",
    "    coord_quickmap() +\n",
    "    theme_void()\n",
    "```"
   ]
  },
  {
   "cell_type": "code",
   "execution_count": 16,
   "id": "7b168325-ad52-4760-8da8-6d75b51a77ae",
   "metadata": {},
   "outputs": [
    {
     "ename": "SyntaxError",
     "evalue": "invalid syntax (2500840100.py, line 1)",
     "output_type": "error",
     "traceback": [
      "\u001b[0;36m  Cell \u001b[0;32mIn[16], line 1\u001b[0;36m\u001b[0m\n\u001b[0;31m    california = map_data(\"state\") |> filter(region == 'california')\u001b[0m\n\u001b[0m                                    ^\u001b[0m\n\u001b[0;31mSyntaxError\u001b[0m\u001b[0;31m:\u001b[0m invalid syntax\n"
     ]
    }
   ],
   "source": [
    "\n",
    "\n",
    "california = map_data(\"state\") |> filter(region == 'california')\n",
    "\n",
    "ggplot(data = california) + \n",
    "    geom_polygon(aes(x = long, y = lat), fill = \"grey90\", color = \"grey40\") +\n",
    "    coord_quickmap() +\n",
    "    theme_void()"
   ]
  }
 ],
 "metadata": {
  "kernelspec": {
   "display_name": ".conda-data730:Python",
   "language": "python",
   "name": "conda-env-.conda-data730-py"
  },
  "language_info": {
   "codemirror_mode": {
    "name": "ipython",
    "version": 3
   },
   "file_extension": ".py",
   "mimetype": "text/x-python",
   "name": "python",
   "nbconvert_exporter": "python",
   "pygments_lexer": "ipython3",
   "version": "3.9.19"
  }
 },
 "nbformat": 4,
 "nbformat_minor": 5
}
